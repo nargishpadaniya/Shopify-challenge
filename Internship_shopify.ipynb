{
 "cells": [
  {
   "cell_type": "markdown",
   "id": "901e0c20",
   "metadata": {},
   "source": [
    "# Fall 2022 Data Science Intern Challenge\n",
    "### Nargish Padaniya\n",
    "### 12/06/2022"
   ]
  },
  {
   "cell_type": "markdown",
   "id": "39790280",
   "metadata": {},
   "source": [
    "Question 1: Given some sample data, write a program to answer the following: On Shopify, we have exactly 100 sneaker shops, and each of these shops sells only one model of shoe. We want to do some analysis of the average order value (AOV). When we look at orders data over a 30 day window, we naively calculate an AOV of $3145.13. Given that we know these shops are selling sneakers, a relatively affordable item, something seems wrong with our analysis."
   ]
  },
  {
   "cell_type": "markdown",
   "id": "c38a66dd",
   "metadata": {},
   "source": [
    "we will load the data and see the summary of the dataset to get the idea"
   ]
  },
  {
   "cell_type": "code",
   "execution_count": 2,
   "id": "c88c4830",
   "metadata": {},
   "outputs": [],
   "source": [
    "import pandas as pd\n",
    "\n",
    "data = pd.read_csv(\"/Users/nargishpadaniya/Downloads/2019 Winter Data Science Intern Challenge Data Set - Sheet1.csv\")"
   ]
  },
  {
   "cell_type": "code",
   "execution_count": 3,
   "id": "f25247f4",
   "metadata": {},
   "outputs": [
    {
     "data": {
      "text/html": [
       "<div>\n",
       "<style scoped>\n",
       "    .dataframe tbody tr th:only-of-type {\n",
       "        vertical-align: middle;\n",
       "    }\n",
       "\n",
       "    .dataframe tbody tr th {\n",
       "        vertical-align: top;\n",
       "    }\n",
       "\n",
       "    .dataframe thead th {\n",
       "        text-align: right;\n",
       "    }\n",
       "</style>\n",
       "<table border=\"1\" class=\"dataframe\">\n",
       "  <thead>\n",
       "    <tr style=\"text-align: right;\">\n",
       "      <th></th>\n",
       "      <th>order_id</th>\n",
       "      <th>shop_id</th>\n",
       "      <th>user_id</th>\n",
       "      <th>order_amount</th>\n",
       "      <th>total_items</th>\n",
       "    </tr>\n",
       "  </thead>\n",
       "  <tbody>\n",
       "    <tr>\n",
       "      <th>count</th>\n",
       "      <td>5000.000000</td>\n",
       "      <td>5000.000000</td>\n",
       "      <td>5000.000000</td>\n",
       "      <td>5000.000000</td>\n",
       "      <td>5000.00000</td>\n",
       "    </tr>\n",
       "    <tr>\n",
       "      <th>mean</th>\n",
       "      <td>2500.500000</td>\n",
       "      <td>50.078800</td>\n",
       "      <td>849.092400</td>\n",
       "      <td>3145.128000</td>\n",
       "      <td>8.78720</td>\n",
       "    </tr>\n",
       "    <tr>\n",
       "      <th>std</th>\n",
       "      <td>1443.520003</td>\n",
       "      <td>29.006118</td>\n",
       "      <td>87.798982</td>\n",
       "      <td>41282.539349</td>\n",
       "      <td>116.32032</td>\n",
       "    </tr>\n",
       "    <tr>\n",
       "      <th>min</th>\n",
       "      <td>1.000000</td>\n",
       "      <td>1.000000</td>\n",
       "      <td>607.000000</td>\n",
       "      <td>90.000000</td>\n",
       "      <td>1.00000</td>\n",
       "    </tr>\n",
       "    <tr>\n",
       "      <th>25%</th>\n",
       "      <td>1250.750000</td>\n",
       "      <td>24.000000</td>\n",
       "      <td>775.000000</td>\n",
       "      <td>163.000000</td>\n",
       "      <td>1.00000</td>\n",
       "    </tr>\n",
       "    <tr>\n",
       "      <th>50%</th>\n",
       "      <td>2500.500000</td>\n",
       "      <td>50.000000</td>\n",
       "      <td>849.000000</td>\n",
       "      <td>284.000000</td>\n",
       "      <td>2.00000</td>\n",
       "    </tr>\n",
       "    <tr>\n",
       "      <th>75%</th>\n",
       "      <td>3750.250000</td>\n",
       "      <td>75.000000</td>\n",
       "      <td>925.000000</td>\n",
       "      <td>390.000000</td>\n",
       "      <td>3.00000</td>\n",
       "    </tr>\n",
       "    <tr>\n",
       "      <th>max</th>\n",
       "      <td>5000.000000</td>\n",
       "      <td>100.000000</td>\n",
       "      <td>999.000000</td>\n",
       "      <td>704000.000000</td>\n",
       "      <td>2000.00000</td>\n",
       "    </tr>\n",
       "  </tbody>\n",
       "</table>\n",
       "</div>"
      ],
      "text/plain": [
       "          order_id      shop_id      user_id   order_amount  total_items\n",
       "count  5000.000000  5000.000000  5000.000000    5000.000000   5000.00000\n",
       "mean   2500.500000    50.078800   849.092400    3145.128000      8.78720\n",
       "std    1443.520003    29.006118    87.798982   41282.539349    116.32032\n",
       "min       1.000000     1.000000   607.000000      90.000000      1.00000\n",
       "25%    1250.750000    24.000000   775.000000     163.000000      1.00000\n",
       "50%    2500.500000    50.000000   849.000000     284.000000      2.00000\n",
       "75%    3750.250000    75.000000   925.000000     390.000000      3.00000\n",
       "max    5000.000000   100.000000   999.000000  704000.000000   2000.00000"
      ]
     },
     "execution_count": 3,
     "metadata": {},
     "output_type": "execute_result"
    }
   ],
   "source": [
    "data.describe()"
   ]
  },
  {
   "cell_type": "markdown",
   "id": "2f8d4199",
   "metadata": {},
   "source": [
    "## a. Think about what could be going wrong with our calculation. Think about a better way to evaluate this data."
   ]
  },
  {
   "cell_type": "markdown",
   "id": "fd5630bd",
   "metadata": {},
   "source": [
    "We can see from the above summary output that the mean of the total order amount is 3145.128, which might be the source of the initial AOV indicated in the question. According to the Shopify website's description of AOV, the calculation is TotalOrderAmount/TotalNumberofOrders, we can see below:"
   ]
  },
  {
   "cell_type": "code",
   "execution_count": 4,
   "id": "3cbdf3b5",
   "metadata": {},
   "outputs": [],
   "source": [
    "TotalOrderAmount = sum(data['order_amount'])\n",
    "TotalNumberofOrders = data.count()\n",
    "AOV = TotalOrderAmount/TotalNumberofOrders"
   ]
  },
  {
   "cell_type": "code",
   "execution_count": 5,
   "id": "82f48997",
   "metadata": {},
   "outputs": [
    {
     "data": {
      "text/plain": [
       "order_id          3145.128\n",
       "shop_id           3145.128\n",
       "user_id           3145.128\n",
       "order_amount      3145.128\n",
       "total_items       3145.128\n",
       "payment_method    3145.128\n",
       "created_at        3145.128\n",
       "dtype: float64"
      ]
     },
     "execution_count": 5,
     "metadata": {},
     "output_type": "execute_result"
    }
   ],
   "source": [
    "AOV"
   ]
  },
  {
   "cell_type": "markdown",
   "id": "2952d946",
   "metadata": {},
   "source": [
    "As we can see there is a mistake here as we can see in the summary that 75% of the order amount is under $ 390 and the mistake maybe caused due to an outlier. Lets check for an outlier"
   ]
  },
  {
   "cell_type": "code",
   "execution_count": 6,
   "id": "b4c17922",
   "metadata": {},
   "outputs": [
    {
     "data": {
      "text/plain": [
       "<function matplotlib.pyplot.show(close=None, block=None)>"
      ]
     },
     "execution_count": 6,
     "metadata": {},
     "output_type": "execute_result"
    },
    {
     "data": {
      "image/png": "[encoded data removed]",
      "text/plain": [
       "<Figure size 432x288 with 1 Axes>"
      ]
     },
     "metadata": {
      "needs_background": "light"
     },
     "output_type": "display_data"
    }
   ],
   "source": [
    "import matplotlib.pyplot as plt\n",
    "\n",
    "plt.boxplot(data['order_amount'])\n",
    "plt.show"
   ]
  },
  {
   "cell_type": "markdown",
   "id": "94accdf5",
   "metadata": {},
   "source": [
    "we will also see the maximum order amount values"
   ]
  },
  {
   "cell_type": "code",
   "execution_count": 8,
   "id": "5a0ed5cf",
   "metadata": {},
   "outputs": [
    {
     "data": {
      "text/html": [
       "<div>\n",
       "<style scoped>\n",
       "    .dataframe tbody tr th:only-of-type {\n",
       "        vertical-align: middle;\n",
       "    }\n",
       "\n",
       "    .dataframe tbody tr th {\n",
       "        vertical-align: top;\n",
       "    }\n",
       "\n",
       "    .dataframe thead th {\n",
       "        text-align: right;\n",
       "    }\n",
       "</style>\n",
       "<table border=\"1\" class=\"dataframe\">\n",
       "  <thead>\n",
       "    <tr style=\"text-align: right;\">\n",
       "      <th></th>\n",
       "      <th>order_id</th>\n",
       "      <th>shop_id</th>\n",
       "      <th>user_id</th>\n",
       "      <th>order_amount</th>\n",
       "      <th>total_items</th>\n",
       "      <th>payment_method</th>\n",
       "      <th>created_at</th>\n",
       "    </tr>\n",
       "  </thead>\n",
       "  <tbody>\n",
       "    <tr>\n",
       "      <th>2153</th>\n",
       "      <td>2154</td>\n",
       "      <td>42</td>\n",
       "      <td>607</td>\n",
       "      <td>704000</td>\n",
       "      <td>2000</td>\n",
       "      <td>credit_card</td>\n",
       "      <td>2017-03-12 4:00:00</td>\n",
       "    </tr>\n",
       "    <tr>\n",
       "      <th>3332</th>\n",
       "      <td>3333</td>\n",
       "      <td>42</td>\n",
       "      <td>607</td>\n",
       "      <td>704000</td>\n",
       "      <td>2000</td>\n",
       "      <td>credit_card</td>\n",
       "      <td>2017-03-24 4:00:00</td>\n",
       "    </tr>\n",
       "    <tr>\n",
       "      <th>520</th>\n",
       "      <td>521</td>\n",
       "      <td>42</td>\n",
       "      <td>607</td>\n",
       "      <td>704000</td>\n",
       "      <td>2000</td>\n",
       "      <td>credit_card</td>\n",
       "      <td>2017-03-02 4:00:00</td>\n",
       "    </tr>\n",
       "    <tr>\n",
       "      <th>1602</th>\n",
       "      <td>1603</td>\n",
       "      <td>42</td>\n",
       "      <td>607</td>\n",
       "      <td>704000</td>\n",
       "      <td>2000</td>\n",
       "      <td>credit_card</td>\n",
       "      <td>2017-03-17 4:00:00</td>\n",
       "    </tr>\n",
       "    <tr>\n",
       "      <th>60</th>\n",
       "      <td>61</td>\n",
       "      <td>42</td>\n",
       "      <td>607</td>\n",
       "      <td>704000</td>\n",
       "      <td>2000</td>\n",
       "      <td>credit_card</td>\n",
       "      <td>2017-03-04 4:00:00</td>\n",
       "    </tr>\n",
       "    <tr>\n",
       "      <th>2835</th>\n",
       "      <td>2836</td>\n",
       "      <td>42</td>\n",
       "      <td>607</td>\n",
       "      <td>704000</td>\n",
       "      <td>2000</td>\n",
       "      <td>credit_card</td>\n",
       "      <td>2017-03-28 4:00:00</td>\n",
       "    </tr>\n",
       "    <tr>\n",
       "      <th>4646</th>\n",
       "      <td>4647</td>\n",
       "      <td>42</td>\n",
       "      <td>607</td>\n",
       "      <td>704000</td>\n",
       "      <td>2000</td>\n",
       "      <td>credit_card</td>\n",
       "      <td>2017-03-02 4:00:00</td>\n",
       "    </tr>\n",
       "    <tr>\n",
       "      <th>2297</th>\n",
       "      <td>2298</td>\n",
       "      <td>42</td>\n",
       "      <td>607</td>\n",
       "      <td>704000</td>\n",
       "      <td>2000</td>\n",
       "      <td>credit_card</td>\n",
       "      <td>2017-03-07 4:00:00</td>\n",
       "    </tr>\n",
       "    <tr>\n",
       "      <th>1436</th>\n",
       "      <td>1437</td>\n",
       "      <td>42</td>\n",
       "      <td>607</td>\n",
       "      <td>704000</td>\n",
       "      <td>2000</td>\n",
       "      <td>credit_card</td>\n",
       "      <td>2017-03-11 4:00:00</td>\n",
       "    </tr>\n",
       "    <tr>\n",
       "      <th>4882</th>\n",
       "      <td>4883</td>\n",
       "      <td>42</td>\n",
       "      <td>607</td>\n",
       "      <td>704000</td>\n",
       "      <td>2000</td>\n",
       "      <td>credit_card</td>\n",
       "      <td>2017-03-25 4:00:00</td>\n",
       "    </tr>\n",
       "    <tr>\n",
       "      <th>4056</th>\n",
       "      <td>4057</td>\n",
       "      <td>42</td>\n",
       "      <td>607</td>\n",
       "      <td>704000</td>\n",
       "      <td>2000</td>\n",
       "      <td>credit_card</td>\n",
       "      <td>2017-03-28 4:00:00</td>\n",
       "    </tr>\n",
       "    <tr>\n",
       "      <th>15</th>\n",
       "      <td>16</td>\n",
       "      <td>42</td>\n",
       "      <td>607</td>\n",
       "      <td>704000</td>\n",
       "      <td>2000</td>\n",
       "      <td>credit_card</td>\n",
       "      <td>2017-03-07 4:00:00</td>\n",
       "    </tr>\n",
       "    <tr>\n",
       "      <th>1104</th>\n",
       "      <td>1105</td>\n",
       "      <td>42</td>\n",
       "      <td>607</td>\n",
       "      <td>704000</td>\n",
       "      <td>2000</td>\n",
       "      <td>credit_card</td>\n",
       "      <td>2017-03-24 4:00:00</td>\n",
       "    </tr>\n",
       "    <tr>\n",
       "      <th>1562</th>\n",
       "      <td>1563</td>\n",
       "      <td>42</td>\n",
       "      <td>607</td>\n",
       "      <td>704000</td>\n",
       "      <td>2000</td>\n",
       "      <td>credit_card</td>\n",
       "      <td>2017-03-19 4:00:00</td>\n",
       "    </tr>\n",
       "    <tr>\n",
       "      <th>2969</th>\n",
       "      <td>2970</td>\n",
       "      <td>42</td>\n",
       "      <td>607</td>\n",
       "      <td>704000</td>\n",
       "      <td>2000</td>\n",
       "      <td>credit_card</td>\n",
       "      <td>2017-03-28 4:00:00</td>\n",
       "    </tr>\n",
       "    <tr>\n",
       "      <th>4868</th>\n",
       "      <td>4869</td>\n",
       "      <td>42</td>\n",
       "      <td>607</td>\n",
       "      <td>704000</td>\n",
       "      <td>2000</td>\n",
       "      <td>credit_card</td>\n",
       "      <td>2017-03-22 4:00:00</td>\n",
       "    </tr>\n",
       "    <tr>\n",
       "      <th>1362</th>\n",
       "      <td>1363</td>\n",
       "      <td>42</td>\n",
       "      <td>607</td>\n",
       "      <td>704000</td>\n",
       "      <td>2000</td>\n",
       "      <td>credit_card</td>\n",
       "      <td>2017-03-15 4:00:00</td>\n",
       "    </tr>\n",
       "    <tr>\n",
       "      <th>691</th>\n",
       "      <td>692</td>\n",
       "      <td>78</td>\n",
       "      <td>878</td>\n",
       "      <td>154350</td>\n",
       "      <td>6</td>\n",
       "      <td>debit</td>\n",
       "      <td>2017-03-27 22:51:43</td>\n",
       "    </tr>\n",
       "    <tr>\n",
       "      <th>2492</th>\n",
       "      <td>2493</td>\n",
       "      <td>78</td>\n",
       "      <td>834</td>\n",
       "      <td>102900</td>\n",
       "      <td>4</td>\n",
       "      <td>debit</td>\n",
       "      <td>2017-03-04 4:37:34</td>\n",
       "    </tr>\n",
       "    <tr>\n",
       "      <th>3724</th>\n",
       "      <td>3725</td>\n",
       "      <td>78</td>\n",
       "      <td>766</td>\n",
       "      <td>77175</td>\n",
       "      <td>3</td>\n",
       "      <td>credit_card</td>\n",
       "      <td>2017-03-16 14:13:26</td>\n",
       "    </tr>\n",
       "  </tbody>\n",
       "</table>\n",
       "</div>"
      ],
      "text/plain": [
       "      order_id  shop_id  user_id  order_amount  total_items payment_method  \\\n",
       "2153      2154       42      607        704000         2000    credit_card   \n",
       "3332      3333       42      607        704000         2000    credit_card   \n",
       "520        521       42      607        704000         2000    credit_card   \n",
       "1602      1603       42      607        704000         2000    credit_card   \n",
       "60          61       42      607        704000         2000    credit_card   \n",
       "2835      2836       42      607        704000         2000    credit_card   \n",
       "4646      4647       42      607        704000         2000    credit_card   \n",
       "2297      2298       42      607        704000         2000    credit_card   \n",
       "1436      1437       42      607        704000         2000    credit_card   \n",
       "4882      4883       42      607        704000         2000    credit_card   \n",
       "4056      4057       42      607        704000         2000    credit_card   \n",
       "15          16       42      607        704000         2000    credit_card   \n",
       "1104      1105       42      607        704000         2000    credit_card   \n",
       "1562      1563       42      607        704000         2000    credit_card   \n",
       "2969      2970       42      607        704000         2000    credit_card   \n",
       "4868      4869       42      607        704000         2000    credit_card   \n",
       "1362      1363       42      607        704000         2000    credit_card   \n",
       "691        692       78      878        154350            6          debit   \n",
       "2492      2493       78      834        102900            4          debit   \n",
       "3724      3725       78      766         77175            3    credit_card   \n",
       "\n",
       "               created_at  \n",
       "2153   2017-03-12 4:00:00  \n",
       "3332   2017-03-24 4:00:00  \n",
       "520    2017-03-02 4:00:00  \n",
       "1602   2017-03-17 4:00:00  \n",
       "60     2017-03-04 4:00:00  \n",
       "2835   2017-03-28 4:00:00  \n",
       "4646   2017-03-02 4:00:00  \n",
       "2297   2017-03-07 4:00:00  \n",
       "1436   2017-03-11 4:00:00  \n",
       "4882   2017-03-25 4:00:00  \n",
       "4056   2017-03-28 4:00:00  \n",
       "15     2017-03-07 4:00:00  \n",
       "1104   2017-03-24 4:00:00  \n",
       "1562   2017-03-19 4:00:00  \n",
       "2969   2017-03-28 4:00:00  \n",
       "4868   2017-03-22 4:00:00  \n",
       "1362   2017-03-15 4:00:00  \n",
       "691   2017-03-27 22:51:43  \n",
       "2492   2017-03-04 4:37:34  \n",
       "3724  2017-03-16 14:13:26  "
      ]
     },
     "execution_count": 8,
     "metadata": {},
     "output_type": "execute_result"
    }
   ],
   "source": [
    "from pandas import DataFrame\n",
    "data1 = DataFrame(data)\n",
    "\n",
    "test = data1.sort_values(['order_amount'], ascending=[False])\n",
    "test.head(20)"
   ]
  },
  {
   "cell_type": "code",
   "execution_count": 32,
   "id": "0ea3c929",
   "metadata": {},
   "outputs": [],
   "source": [
    "d1 = data[data['order_amount']<= 10000]"
   ]
  },
  {
   "cell_type": "code",
   "execution_count": 33,
   "id": "0ffa0314",
   "metadata": {},
   "outputs": [
    {
     "data": {
      "text/html": [
       "<div>\n",
       "<style scoped>\n",
       "    .dataframe tbody tr th:only-of-type {\n",
       "        vertical-align: middle;\n",
       "    }\n",
       "\n",
       "    .dataframe tbody tr th {\n",
       "        vertical-align: top;\n",
       "    }\n",
       "\n",
       "    .dataframe thead th {\n",
       "        text-align: right;\n",
       "    }\n",
       "</style>\n",
       "<table border=\"1\" class=\"dataframe\">\n",
       "  <thead>\n",
       "    <tr style=\"text-align: right;\">\n",
       "      <th></th>\n",
       "      <th>order_id</th>\n",
       "      <th>shop_id</th>\n",
       "      <th>user_id</th>\n",
       "      <th>order_amount</th>\n",
       "      <th>total_items</th>\n",
       "      <th>payment_method</th>\n",
       "      <th>created_at</th>\n",
       "    </tr>\n",
       "  </thead>\n",
       "  <tbody>\n",
       "    <tr>\n",
       "      <th>0</th>\n",
       "      <td>1</td>\n",
       "      <td>53</td>\n",
       "      <td>746</td>\n",
       "      <td>224</td>\n",
       "      <td>2</td>\n",
       "      <td>cash</td>\n",
       "      <td>2017-03-13 12:36:56</td>\n",
       "    </tr>\n",
       "    <tr>\n",
       "      <th>1</th>\n",
       "      <td>2</td>\n",
       "      <td>92</td>\n",
       "      <td>925</td>\n",
       "      <td>90</td>\n",
       "      <td>1</td>\n",
       "      <td>cash</td>\n",
       "      <td>2017-03-03 17:38:52</td>\n",
       "    </tr>\n",
       "    <tr>\n",
       "      <th>2</th>\n",
       "      <td>3</td>\n",
       "      <td>44</td>\n",
       "      <td>861</td>\n",
       "      <td>144</td>\n",
       "      <td>1</td>\n",
       "      <td>cash</td>\n",
       "      <td>2017-03-14 4:23:56</td>\n",
       "    </tr>\n",
       "    <tr>\n",
       "      <th>3</th>\n",
       "      <td>4</td>\n",
       "      <td>18</td>\n",
       "      <td>935</td>\n",
       "      <td>156</td>\n",
       "      <td>1</td>\n",
       "      <td>credit_card</td>\n",
       "      <td>2017-03-26 12:43:37</td>\n",
       "    </tr>\n",
       "    <tr>\n",
       "      <th>4</th>\n",
       "      <td>5</td>\n",
       "      <td>18</td>\n",
       "      <td>883</td>\n",
       "      <td>156</td>\n",
       "      <td>1</td>\n",
       "      <td>credit_card</td>\n",
       "      <td>2017-03-01 4:35:11</td>\n",
       "    </tr>\n",
       "    <tr>\n",
       "      <th>...</th>\n",
       "      <td>...</td>\n",
       "      <td>...</td>\n",
       "      <td>...</td>\n",
       "      <td>...</td>\n",
       "      <td>...</td>\n",
       "      <td>...</td>\n",
       "      <td>...</td>\n",
       "    </tr>\n",
       "    <tr>\n",
       "      <th>4995</th>\n",
       "      <td>4996</td>\n",
       "      <td>73</td>\n",
       "      <td>993</td>\n",
       "      <td>330</td>\n",
       "      <td>2</td>\n",
       "      <td>debit</td>\n",
       "      <td>2017-03-30 13:47:17</td>\n",
       "    </tr>\n",
       "    <tr>\n",
       "      <th>4996</th>\n",
       "      <td>4997</td>\n",
       "      <td>48</td>\n",
       "      <td>789</td>\n",
       "      <td>234</td>\n",
       "      <td>2</td>\n",
       "      <td>cash</td>\n",
       "      <td>2017-03-16 20:36:16</td>\n",
       "    </tr>\n",
       "    <tr>\n",
       "      <th>4997</th>\n",
       "      <td>4998</td>\n",
       "      <td>56</td>\n",
       "      <td>867</td>\n",
       "      <td>351</td>\n",
       "      <td>3</td>\n",
       "      <td>cash</td>\n",
       "      <td>2017-03-19 5:42:42</td>\n",
       "    </tr>\n",
       "    <tr>\n",
       "      <th>4998</th>\n",
       "      <td>4999</td>\n",
       "      <td>60</td>\n",
       "      <td>825</td>\n",
       "      <td>354</td>\n",
       "      <td>2</td>\n",
       "      <td>credit_card</td>\n",
       "      <td>2017-03-16 14:51:18</td>\n",
       "    </tr>\n",
       "    <tr>\n",
       "      <th>4999</th>\n",
       "      <td>5000</td>\n",
       "      <td>44</td>\n",
       "      <td>734</td>\n",
       "      <td>288</td>\n",
       "      <td>2</td>\n",
       "      <td>debit</td>\n",
       "      <td>2017-03-18 15:48:18</td>\n",
       "    </tr>\n",
       "  </tbody>\n",
       "</table>\n",
       "<p>4937 rows × 7 columns</p>\n",
       "</div>"
      ],
      "text/plain": [
       "      order_id  shop_id  user_id  order_amount  total_items payment_method  \\\n",
       "0            1       53      746           224            2           cash   \n",
       "1            2       92      925            90            1           cash   \n",
       "2            3       44      861           144            1           cash   \n",
       "3            4       18      935           156            1    credit_card   \n",
       "4            5       18      883           156            1    credit_card   \n",
       "...        ...      ...      ...           ...          ...            ...   \n",
       "4995      4996       73      993           330            2          debit   \n",
       "4996      4997       48      789           234            2           cash   \n",
       "4997      4998       56      867           351            3           cash   \n",
       "4998      4999       60      825           354            2    credit_card   \n",
       "4999      5000       44      734           288            2          debit   \n",
       "\n",
       "               created_at  \n",
       "0     2017-03-13 12:36:56  \n",
       "1     2017-03-03 17:38:52  \n",
       "2      2017-03-14 4:23:56  \n",
       "3     2017-03-26 12:43:37  \n",
       "4      2017-03-01 4:35:11  \n",
       "...                   ...  \n",
       "4995  2017-03-30 13:47:17  \n",
       "4996  2017-03-16 20:36:16  \n",
       "4997   2017-03-19 5:42:42  \n",
       "4998  2017-03-16 14:51:18  \n",
       "4999  2017-03-18 15:48:18  \n",
       "\n",
       "[4937 rows x 7 columns]"
      ]
     },
     "execution_count": 33,
     "metadata": {},
     "output_type": "execute_result"
    }
   ],
   "source": [
    "d1"
   ]
  },
  {
   "cell_type": "code",
   "execution_count": 34,
   "id": "d38429ef",
   "metadata": {},
   "outputs": [
    {
     "data": {
      "text/plain": [
       "<function matplotlib.pyplot.show(close=None, block=None)>"
      ]
     },
     "execution_count": 34,
     "metadata": {},
     "output_type": "execute_result"
    },
    {
     "data": {
      "image/png": "[encoded data removed]",
      "text/plain": [
       "<Figure size 432x288 with 1 Axes>"
      ]
     },
     "metadata": {
      "needs_background": "light"
     },
     "output_type": "display_data"
    }
   ],
   "source": [
    "plt.boxplot(d1['order_amount'])\n",
    "plt.show"
   ]
  },
  {
   "cell_type": "markdown",
   "id": "346a9cd6",
   "metadata": {},
   "source": [
    "we can see there is outliers that was oder amount above 10000 dollars and that were affecting the AOV. Now we can see that AOV would have changed."
   ]
  },
  {
   "cell_type": "code",
   "execution_count": 35,
   "id": "874ae8ed",
   "metadata": {},
   "outputs": [],
   "source": [
    "TotalOrderAmount = sum(d1['order_amount'])\n",
    "TotalNumberofOrders = d1.count()\n",
    "newAOV = TotalOrderAmount/TotalNumberofOrders"
   ]
  },
  {
   "cell_type": "code",
   "execution_count": 36,
   "id": "754806f8",
   "metadata": {},
   "outputs": [
    {
     "data": {
      "text/plain": [
       "order_id          302.580514\n",
       "shop_id           302.580514\n",
       "user_id           302.580514\n",
       "order_amount      302.580514\n",
       "total_items       302.580514\n",
       "payment_method    302.580514\n",
       "created_at        302.580514\n",
       "dtype: float64"
      ]
     },
     "execution_count": 36,
     "metadata": {},
     "output_type": "execute_result"
    }
   ],
   "source": [
    "newAOV"
   ]
  },
  {
   "cell_type": "code",
   "execution_count": 37,
   "id": "1e950d8f",
   "metadata": {},
   "outputs": [
    {
     "data": {
      "text/plain": [
       "284.0"
      ]
     },
     "execution_count": 37,
     "metadata": {},
     "output_type": "execute_result"
    }
   ],
   "source": [
    "import statistics\n",
    " \n",
    "statistics.median(data['order_amount'])"
   ]
  },
  {
   "cell_type": "code",
   "execution_count": 38,
   "id": "0effe0aa",
   "metadata": {},
   "outputs": [
    {
     "data": {
      "text/plain": [
       "284"
      ]
     },
     "execution_count": 38,
     "metadata": {},
     "output_type": "execute_result"
    }
   ],
   "source": [
    "statistics.median(d1['order_amount'])"
   ]
  },
  {
   "cell_type": "markdown",
   "id": "eb1cf505",
   "metadata": {},
   "source": [
    "From the above analysis we can say the outlier causes the problem and can lead in getting an wrong AOV value. After removing an outlier we can see that we got the new AOV value really small of $ 302.58 and the median have not changed before also it was 284 and after also 284. So removing the outlier is one solution."
   ]
  },
  {
   "cell_type": "markdown",
   "id": "364f542a",
   "metadata": {},
   "source": [
    "## What metric would you report for this dataset?"
   ]
  },
  {
   "cell_type": "markdown",
   "id": "b1f3080a",
   "metadata": {},
   "source": [
    "1. Getting the average value of the data after removing the extreme outliers\n",
    "2. Getting the AOV value after removing the extreme outliers\n",
    "3. Getting median value before and after removing the extreme outliers"
   ]
  },
  {
   "cell_type": "markdown",
   "id": "29e65b69",
   "metadata": {},
   "source": [
    "## Values"
   ]
  },
  {
   "cell_type": "markdown",
   "id": "9cac3692",
   "metadata": {},
   "source": [
    "1. Getting the average value of the data after removing the extreme outliers"
   ]
  },
  {
   "cell_type": "code",
   "execution_count": 39,
   "id": "4a614a6a",
   "metadata": {},
   "outputs": [
    {
     "data": {
      "text/plain": [
       "302.58051448247926"
      ]
     },
     "execution_count": 39,
     "metadata": {},
     "output_type": "execute_result"
    }
   ],
   "source": [
    "statistics.mean(d1['order_amount'])"
   ]
  },
  {
   "cell_type": "markdown",
   "id": "20548193",
   "metadata": {},
   "source": [
    "2. getting the AOV value after removing the extreme outliers"
   ]
  },
  {
   "cell_type": "code",
   "execution_count": 41,
   "id": "3cf09597",
   "metadata": {},
   "outputs": [
    {
     "data": {
      "text/plain": [
       "302.58051448247926"
      ]
     },
     "execution_count": 41,
     "metadata": {},
     "output_type": "execute_result"
    }
   ],
   "source": [
    "TotalOrderAmount = sum(d1['order_amount'])\n",
    "TotalNumberofOrders = d1.count()\n",
    "newAOV = TotalOrderAmount/TotalNumberofOrders\n",
    "newAOV['order_amount']"
   ]
  },
  {
   "cell_type": "markdown",
   "id": "47459d97",
   "metadata": {},
   "source": [
    "3. getting median value before and after removing the extreme outliers"
   ]
  },
  {
   "cell_type": "code",
   "execution_count": 43,
   "id": "c4bf2e68",
   "metadata": {},
   "outputs": [
    {
     "name": "stdout",
     "output_type": "stream",
     "text": [
      "before:  284.0\n",
      "after:  284\n"
     ]
    }
   ],
   "source": [
    "print(\"before: \",statistics.median(data['order_amount']))\n",
    "print(\"after: \",statistics.median(d1['order_amount']))"
   ]
  },
  {
   "cell_type": "markdown",
   "id": "87c630db",
   "metadata": {},
   "source": [
    "## Question 2"
   ]
  },
  {
   "cell_type": "markdown",
   "id": "4d23aa3a",
   "metadata": {},
   "source": [
    "Question 2: For this question you’ll need to use SQL. Follow this link to access the data set required for the challenge. Please use queries to answer the following questions. Paste your queries along with your final numerical answers below."
   ]
  },
  {
   "cell_type": "markdown",
   "id": "07c42a6e",
   "metadata": {},
   "source": [
    "### How many orders were shipped by Speedy Express in total?"
   ]
  },
  {
   "cell_type": "markdown",
   "id": "7d6e4772",
   "metadata": {},
   "source": [
    "SELECT a.ShipperName, COUNT(DISTINCT b.OrderID) as TotalOrders\n",
    "FROM Orders as b\n",
    "LEFT JOIN Shippers as a\n",
    "ON b.ShipperID = a.ShipperID\n",
    "WHERE ShipperName = \"Speedy Express\";"
   ]
  },
  {
   "cell_type": "markdown",
   "id": "f193c8d6",
   "metadata": {},
   "source": [
    "54 orders were shipped by speedy express"
   ]
  },
  {
   "cell_type": "markdown",
   "id": "97151200",
   "metadata": {},
   "source": [
    "### What is the last name of the employee with the most orders?"
   ]
  },
  {
   "cell_type": "markdown",
   "id": "4d8d8ffe",
   "metadata": {},
   "source": [
    "SELECT a.LastName, COUNT(DISTINCT b.OrderID) as TotalOrders\n",
    "FROM Orders as b\n",
    "LEFT JOIN Employees as a\n",
    "ON b.EmployeeID = a.EmployeeID\n",
    "GROUP BY a.LastName\n",
    "ORDER BY TotalOrders DESC\n",
    "LIMIT 1"
   ]
  },
  {
   "cell_type": "markdown",
   "id": "8dca9ed0",
   "metadata": {},
   "source": [
    "40 orders by employee with Peacock as lastname"
   ]
  },
  {
   "cell_type": "markdown",
   "id": "ffda4530",
   "metadata": {},
   "source": [
    "### What product was ordered the most by customers in Germany?"
   ]
  },
  {
   "cell_type": "markdown",
   "id": "de27ea2b",
   "metadata": {},
   "source": [
    "SELECT a.ProductName, SUM(b.Quantity) as TotalQuan\n",
    "FROM Orders as d\n",
    "JOIN Customers as c\n",
    "  ON c.CustomerID = d.CustomerID\n",
    "JOIN OrderDetails as b\n",
    "  ON d.OrderID = b.OrderID\n",
    "JOIN Products as a\n",
    "  ON b.ProductID = a.ProductID\n",
    "WHERE c.Country = 'Germany'\n",
    "GROUP BY ProductName\n",
    "ORDER BY TotalQuan DESC\n",
    "LIMIT 1;"
   ]
  },
  {
   "cell_type": "markdown",
   "id": "f468c143",
   "metadata": {},
   "source": [
    "Boston Crab Meat was most ordered product in Germany with Total order of 160."
   ]
  },
  {
   "cell_type": "code",
   "execution_count": null,
   "id": "9cc112ac",
   "metadata": {},
   "outputs": [],
   "source": []
  }
 ],
 "metadata": {
  "kernelspec": {
   "display_name": "Python 3",
   "language": "python",
   "name": "python3"
  },
  "language_info": {
   "codemirror_mode": {
    "name": "ipython",
    "version": 3
   },
   "file_extension": ".py",
   "mimetype": "text/x-python",
   "name": "python",
   "nbconvert_exporter": "python",
   "pygments_lexer": "ipython3",
   "version": "3.8.13"
  }
 },
 "nbformat": 4,
 "nbformat_minor": 5
}
